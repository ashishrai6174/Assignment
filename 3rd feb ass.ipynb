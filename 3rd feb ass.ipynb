{
 "cells": [
  {
   "cell_type": "code",
   "execution_count": 5,
   "id": "1ec18a30-a2a4-46e4-89a9-021c678fcb86",
   "metadata": {},
   "outputs": [
    {
     "data": {
      "text/plain": [
       "[1, 3, 5, 7, 9, 11, 13, 15, 17, 19, 21, 23, 25]"
      ]
     },
     "execution_count": 5,
     "metadata": {},
     "output_type": "execute_result"
    }
   ],
   "source": [
    "#que1\n",
    "def odd():\n",
    "    list1=[]\n",
    "    i=0\n",
    "    while i<25:\n",
    "        i=i+1\n",
    "        if i%2!=0:\n",
    "            list1.append(i)\n",
    "    return list1\n",
    "odd()"
   ]
  },
  {
   "cell_type": "code",
   "execution_count": 24,
   "id": "a33a18f5-a5fd-4349-9c8b-cdfa3f2782cb",
   "metadata": {},
   "outputs": [
    {
     "data": {
      "text/plain": [
       "(1, 2, 3)"
      ]
     },
     "execution_count": 24,
     "metadata": {},
     "output_type": "execute_result"
    }
   ],
   "source": [
    "#ques2\n",
    "#  *arg and **kwargs is used to pass dynamic parameter.**kwargs is used to pass dictionary element as a parameter.\n",
    "def test(*args):\n",
    "    return args\n",
    "def test1(**kwargs):\n",
    "    return kwargs\n",
    "test1(a='as',b=\"asd\",c=5)\n",
    "test(1,2,3)\n",
    "\n",
    "\n"
   ]
  },
  {
   "cell_type": "code",
   "execution_count": 11,
   "id": "b8b24f9a-b5fd-4ef5-9d29-fa740c1d4c1a",
   "metadata": {},
   "outputs": [
    {
     "name": "stdout",
     "output_type": "stream",
     "text": [
      "2\n",
      "4\n",
      "6\n",
      "8\n",
      "10\n"
     ]
    }
   ],
   "source": [
    "#ques3\n",
    "#An iterator is an object that enables us to traverse through list,tuple or dict and access its element one at a time.\n",
    "#The method used to initialize the iterator object in python is called iter()\n",
    "list1=[2,4,6,8,10,12,14,16,18,20]\n",
    "for i in range(len(list1)):\n",
    "    if i<5:\n",
    "        print(list1[i])\n",
    "        \n",
    "        \n",
    "        \n",
    "    \n",
    "    \n",
    "               \n",
    "                \n",
    "                   \n",
    "               \n",
    "    "
   ]
  },
  {
   "cell_type": "code",
   "execution_count": null,
   "id": "4a095eef-cace-4fad-a6d9-f123e91045d2",
   "metadata": {},
   "outputs": [],
   "source": [
    "#ques4\n",
    "A generator function in python is a type of function that generates a sequence of values on-the-fly.\n",
    "Generator functions use the yield keyword to produce a series of value that can be iterated over.\n",
    "Example:\n",
    "    def generate_even_number():\n",
    "        n=0\n",
    "        while True:\n",
    "            yield n\n",
    "            n=n+2\n",
    "    \n",
    "\n"
   ]
  },
  {
   "cell_type": "code",
   "execution_count": 3,
   "id": "b44a8511-804a-4fac-b5f1-ef1b649d5f01",
   "metadata": {},
   "outputs": [
    {
     "name": "stdout",
     "output_type": "stream",
     "text": [
      "2\n",
      "3\n",
      "5\n",
      "7\n",
      "11\n",
      "13\n",
      "17\n",
      "19\n",
      "23\n",
      "29\n",
      "31\n",
      "37\n",
      "41\n",
      "43\n",
      "47\n",
      "53\n",
      "59\n",
      "61\n",
      "67\n",
      "71\n"
     ]
    }
   ],
   "source": [
    "#quest 5\n",
    "def primes():\n",
    "    # initial prime number\n",
    "    yield 2\n",
    "    \n",
    "    # start checking for primes from 3\n",
    "    num = 3\n",
    "    \n",
    "    while num < 1000:\n",
    "        # check if num is prime\n",
    "        is_prime = True\n",
    "        for i in range(2, int(num ** 0.5) + 1):\n",
    "            if num % i == 0:\n",
    "                is_prime = False\n",
    "                break\n",
    "        \n",
    "        if is_prime:\n",
    "            yield num\n",
    "        \n",
    "        # move to next number\n",
    "        num += 2\n",
    "# create generator object\n",
    "prime_gen = primes()\n",
    "\n",
    "# print first 20 prime numbers\n",
    "for i in range(20):\n",
    "    print(next(prime_gen))\n"
   ]
  },
  {
   "cell_type": "code",
   "execution_count": 4,
   "id": "0aee5161-805f-494d-8acb-b078b423aa3f",
   "metadata": {},
   "outputs": [
    {
     "name": "stdout",
     "output_type": "stream",
     "text": [
      "0\n",
      "1\n",
      "1\n",
      "2\n",
      "3\n",
      "5\n",
      "8\n",
      "13\n",
      "21\n",
      "34\n"
     ]
    }
   ],
   "source": [
    "#que6\n",
    "n=10\n",
    "a=0\n",
    "b=1\n",
    "i=3\n",
    "print(a)\n",
    "print(b)\n",
    "while i<=10:\n",
    "    c=a+b\n",
    "    print(c)\n",
    "    a=b\n",
    "    b=c\n",
    "    i=i+1"
   ]
  },
  {
   "cell_type": "code",
   "execution_count": 5,
   "id": "6e527594-5bfc-4927-b771-8c7f3091cad6",
   "metadata": {},
   "outputs": [
    {
     "data": {
      "text/plain": [
       "['p', 'w', 's', 'k', 'i', 'l', 'l', 's']"
      ]
     },
     "execution_count": 5,
     "metadata": {},
     "output_type": "execute_result"
    }
   ],
   "source": [
    "#que7\n",
    "s=\"pwskills\"\n",
    "[i for i in s]"
   ]
  },
  {
   "cell_type": "code",
   "execution_count": 18,
   "id": "31348032-7fa1-4472-a4c5-77f73c40fd2d",
   "metadata": {},
   "outputs": [
    {
     "name": "stdin",
     "output_type": "stream",
     "text": [
      "enter the number 565\n"
     ]
    },
    {
     "name": "stdout",
     "output_type": "stream",
     "text": [
      "given number is palindrome\n"
     ]
    }
   ],
   "source": [
    "#que 8\n",
    "n=int(input(\"enter the number\"))\n",
    "num=0\n",
    "original_number=n\n",
    "while n!=0:\n",
    "    c=n%10\n",
    "    num=num*10+c\n",
    "    n=n//10\n",
    "if original_number==num:\n",
    "    print(\"given number is palindrome\")\n",
    "else:\n",
    "     print(\"Number is not palindrome\")\n",
    "    \n",
    "    \n",
    "    \n"
   ]
  },
  {
   "cell_type": "code",
   "execution_count": 39,
   "id": "c37188e3-7441-4836-8c4a-9781fae501a4",
   "metadata": {},
   "outputs": [
    {
     "data": {
      "text/plain": [
       "[1,\n",
       " 3,\n",
       " 5,\n",
       " 7,\n",
       " 9,\n",
       " 11,\n",
       " 13,\n",
       " 15,\n",
       " 17,\n",
       " 19,\n",
       " 21,\n",
       " 23,\n",
       " 25,\n",
       " 27,\n",
       " 29,\n",
       " 31,\n",
       " 33,\n",
       " 35,\n",
       " 37,\n",
       " 39,\n",
       " 41,\n",
       " 43,\n",
       " 45,\n",
       " 47,\n",
       " 49,\n",
       " 51,\n",
       " 53,\n",
       " 55,\n",
       " 57,\n",
       " 59,\n",
       " 61,\n",
       " 63,\n",
       " 65,\n",
       " 67,\n",
       " 69,\n",
       " 71,\n",
       " 73,\n",
       " 75,\n",
       " 77,\n",
       " 79,\n",
       " 81,\n",
       " 83,\n",
       " 85,\n",
       " 87,\n",
       " 89,\n",
       " 91,\n",
       " 93,\n",
       " 95,\n",
       " 97,\n",
       " 99]"
      ]
     },
     "execution_count": 39,
     "metadata": {},
     "output_type": "execute_result"
    }
   ],
   "source": [
    "#Ques9\n",
    "list1=[i for i in range(101)]\n",
    "list1\n",
    "[i for i in list1 if i%2!=0]\n"
   ]
  },
  {
   "cell_type": "code",
   "execution_count": null,
   "id": "c592d5dd-b904-45f1-895c-304ed63748a1",
   "metadata": {},
   "outputs": [],
   "source": []
  }
 ],
 "metadata": {
  "kernelspec": {
   "display_name": "Python 3 (ipykernel)",
   "language": "python",
   "name": "python3"
  },
  "language_info": {
   "codemirror_mode": {
    "name": "ipython",
    "version": 3
   },
   "file_extension": ".py",
   "mimetype": "text/x-python",
   "name": "python",
   "nbconvert_exporter": "python",
   "pygments_lexer": "ipython3",
   "version": "3.10.8"
  }
 },
 "nbformat": 4,
 "nbformat_minor": 5
}
