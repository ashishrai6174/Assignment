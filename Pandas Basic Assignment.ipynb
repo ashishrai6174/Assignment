{
 "cells": [
  {
   "cell_type": "code",
   "execution_count": 8,
   "id": "aeb12d19-a307-43be-a0de-d4c688f1884b",
   "metadata": {},
   "outputs": [
    {
     "data": {
      "text/plain": [
       "0     4\n",
       "1     8\n",
       "2    15\n",
       "3    16\n",
       "4    23\n",
       "5    42\n",
       "dtype: int64"
      ]
     },
     "execution_count": 8,
     "metadata": {},
     "output_type": "execute_result"
    }
   ],
   "source": [
    "#ques1:\n",
    "import pandas as pd\n",
    "series=pd.Series([4,8,15,16,23,42])\n",
    "series"
   ]
  },
  {
   "cell_type": "code",
   "execution_count": 12,
   "id": "54595160-c606-4e81-ad65-7b6d1c1fd550",
   "metadata": {},
   "outputs": [
    {
     "data": {
      "text/plain": [
       "0     1\n",
       "1     2\n",
       "2     3\n",
       "3     4\n",
       "4     5\n",
       "5     6\n",
       "6     7\n",
       "7     8\n",
       "8     9\n",
       "9    10\n",
       "dtype: int64"
      ]
     },
     "execution_count": 12,
     "metadata": {},
     "output_type": "execute_result"
    }
   ],
   "source": [
    "#ques2: \n",
    "list1=[1,2,3,4,5,6,7,8,9,10]\n",
    "series=pd.Series(list1)\n",
    "series"
   ]
  },
  {
   "cell_type": "code",
   "execution_count": 20,
   "id": "d3a4ab20-a1cc-401a-9fe1-190f7c958897",
   "metadata": {},
   "outputs": [
    {
     "data": {
      "text/html": [
       "<div>\n",
       "<style scoped>\n",
       "    .dataframe tbody tr th:only-of-type {\n",
       "        vertical-align: middle;\n",
       "    }\n",
       "\n",
       "    .dataframe tbody tr th {\n",
       "        vertical-align: top;\n",
       "    }\n",
       "\n",
       "    .dataframe thead th {\n",
       "        text-align: right;\n",
       "    }\n",
       "</style>\n",
       "<table border=\"1\" class=\"dataframe\">\n",
       "  <thead>\n",
       "    <tr style=\"text-align: right;\">\n",
       "      <th></th>\n",
       "      <th>Name</th>\n",
       "      <th>Age</th>\n",
       "      <th>Gender</th>\n",
       "    </tr>\n",
       "  </thead>\n",
       "  <tbody>\n",
       "    <tr>\n",
       "      <th>0</th>\n",
       "      <td>Alice</td>\n",
       "      <td>25</td>\n",
       "      <td>Female</td>\n",
       "    </tr>\n",
       "    <tr>\n",
       "      <th>1</th>\n",
       "      <td>Bob</td>\n",
       "      <td>30</td>\n",
       "      <td>Male</td>\n",
       "    </tr>\n",
       "    <tr>\n",
       "      <th>2</th>\n",
       "      <td>Claire</td>\n",
       "      <td>27</td>\n",
       "      <td>Female</td>\n",
       "    </tr>\n",
       "  </tbody>\n",
       "</table>\n",
       "</div>"
      ],
      "text/plain": [
       "     Name  Age  Gender\n",
       "0   Alice   25  Female\n",
       "1     Bob   30    Male\n",
       "2  Claire   27  Female"
      ]
     },
     "execution_count": 20,
     "metadata": {},
     "output_type": "execute_result"
    }
   ],
   "source": [
    "#ques3:\n",
    "dict1={'Name':['Alice','Bob','Claire'],\n",
    "      'Age':[25,30,27],\n",
    "      'Gender':['Female','Male','Female']}\n",
    "df=pd.DataFrame(dict1)\n",
    "df"
   ]
  },
  {
   "cell_type": "code",
   "execution_count": 21,
   "id": "3b275e17-52ca-42fb-bdd7-7fc00baf3598",
   "metadata": {},
   "outputs": [],
   "source": [
    "#ques4: \n",
    "#Both DataFrame and series are the two main data structure of pandas library. Series in pandas contains a\n",
    "#single list which can store heterogeneous type of data, because of this, series is also considered as a 1-dimensional data structure.\n",
    "\n",
    "#On the other hand, DataFrame is a 2-dimensional data structure which contains multiple lists of heterogeneous type of data. \n",
    "#DataFrame can contain multiple series or it can be considered as a collection of series.\n",
    "# Example:\n",
    "# DataFrame: dict1={'Name':['Alice','Bob','Claire'],\n",
    "#     'Age':[25,30,27],\n",
    "#     'Gender':['Female','Male','Female']}\n",
    "#df=pd.DataFrame(dict1)\n",
    "#df\n",
    "#Series:  list1=[1,2,3,4,5,6,7,8,9,10]\n",
    "#series=pd.Series(list1)\n",
    "#series"
   ]
  },
  {
   "cell_type": "code",
   "execution_count": 22,
   "id": "9a740144-d000-4f33-9599-21af9a572494",
   "metadata": {},
   "outputs": [],
   "source": [
    "#ques5:\n",
    "#some common function to manupulate data in pandas are: Describe,groupby,fillna,set_index,Reset_index,head(),tail(),loc(),iloc(),drop()\n",
    "#Example:\n",
    "#import pandas as pd\n",
    "#df=pd.read_csv(\"file_name\")\n",
    "#df.describe()\n"
   ]
  },
  {
   "cell_type": "code",
   "execution_count": 23,
   "id": "e720fc6d-31b9-47e0-a125-c12c196c7862",
   "metadata": {},
   "outputs": [],
   "source": [
    "#ques6:\n",
    "#DataFrame and Panel are mutable in nature."
   ]
  },
  {
   "cell_type": "code",
   "execution_count": 24,
   "id": "7b64722f-c328-4c56-bf55-7c2c04e22343",
   "metadata": {},
   "outputs": [
    {
     "data": {
      "text/plain": [
       "0    1\n",
       "1    2\n",
       "2    3\n",
       "dtype: int64"
      ]
     },
     "execution_count": 24,
     "metadata": {},
     "output_type": "execute_result"
    }
   ],
   "source": [
    "#ques7:\n",
    "ser1=pd.Series([1,2,3])\n",
    "ser2=pd.Series([3,4,5])\n",
    "ser3=pd.Series([4,5,6])\n",
    "ser1\n",
    "df"
   ]
  },
  {
   "cell_type": "code",
   "execution_count": null,
   "id": "5baf7a97-cf67-4bbf-bce2-64af70be6942",
   "metadata": {},
   "outputs": [],
   "source": []
  }
 ],
 "metadata": {
  "kernelspec": {
   "display_name": "Python 3 (ipykernel)",
   "language": "python",
   "name": "python3"
  },
  "language_info": {
   "codemirror_mode": {
    "name": "ipython",
    "version": 3
   },
   "file_extension": ".py",
   "mimetype": "text/x-python",
   "name": "python",
   "nbconvert_exporter": "python",
   "pygments_lexer": "ipython3",
   "version": "3.10.8"
  }
 },
 "nbformat": 4,
 "nbformat_minor": 5
}
