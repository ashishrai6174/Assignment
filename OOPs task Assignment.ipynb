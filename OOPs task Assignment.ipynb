{
 "cells": [
  {
   "cell_type": "code",
   "execution_count": 1,
   "id": "74c84196-1f16-4a9f-972b-d85873c6bb3d",
   "metadata": {},
   "outputs": [],
   "source": [
    "#ques1\n",
    "class vehicle:\n",
    "    def __init__(self,name_of_vehicle,max_speed,average_of_vehicle):\n",
    "        self.name_of_vehicle=name_of_vehicle\n",
    "        self.max_speed=max_speed\n",
    "        self.average_of_vehicle=average_of_vehicle\n",
    "    "
   ]
  },
  {
   "cell_type": "code",
   "execution_count": 21,
   "id": "e26456a7-fd3b-4b39-a229-0960e339c7f0",
   "metadata": {},
   "outputs": [
    {
     "data": {
      "text/plain": [
       "('Centro', 5)"
      ]
     },
     "execution_count": 21,
     "metadata": {},
     "output_type": "execute_result"
    }
   ],
   "source": [
    "#ques2\n",
    "class child(vehicle):\n",
    "    def seating_capacity(self,capacity):\n",
    "        self.capacity=capacity\n",
    "        return (self.name_of_vehicle,capacity)\n",
    "obj=child(\"Centro\",80,60)\n",
    "obj.seating_capacity(5)\n",
    "    "
   ]
  },
  {
   "cell_type": "code",
   "execution_count": 24,
   "id": "a15a8cea-1054-4685-9d9f-72bbe3b911dd",
   "metadata": {},
   "outputs": [
    {
     "data": {
      "text/plain": [
       "'hello B'"
      ]
     },
     "execution_count": 24,
     "metadata": {},
     "output_type": "execute_result"
    }
   ],
   "source": [
    "#ques3\n",
    "# when a child class inherit the properties from multiple parent class then it is called multiple inheritance\n",
    "class A:\n",
    "    def test(self):\n",
    "        return \"hello A\"\n",
    "class B:\n",
    "    def test1(self):\n",
    "        return \"hello B\"\n",
    "class child(A,B):\n",
    "    pass\n",
    "obj=child() //here object of child class will inherit the pro\n",
    "obj.test()\n",
    "obj.test1()"
   ]
  },
  {
   "cell_type": "code",
   "execution_count": null,
   "id": "0763dd6a-03ea-4e01-a4c1-3d339bfe263a",
   "metadata": {},
   "outputs": [],
   "source": [
    "#ques4\n",
    "#Getter and setter are property decorator which helps us to access protected variable of class. \n",
    "class price:\n",
    "    def __init__course_price(self,course_price,name):\n",
    "        self.__course_price=course_price\n",
    "        self.name=name\n",
    "    @property\n",
    "    def course_access(self):\n",
    "        return self.__course_price\n",
    "        obj=price()\n",
    "    @course_access.setter\n",
    "    def set_price(self,price1):\n",
    "        pass\n",
    "    @course_access.getter\n",
    "    def get_price(self):\n",
    "        pass\n",
    "        \n",
    "        \n",
    "\n",
    "\n",
    "\n"
   ]
  },
  {
   "cell_type": "code",
   "execution_count": null,
   "id": "5da43872-39da-4e1b-afb4-a54cfc46c97b",
   "metadata": {},
   "outputs": [],
   "source": [
    "#ques5\n",
    "#method overiding is ability of object oriented programming language that allows a child class to provide \n",
    "#specific implementation of method that is already provided by one of its parent class.\n",
    "class parent:\n",
    "    def __init__(self)\n",
    "    self.value=\"inside parent\"\n",
    "    def show(self):\n",
    "        print(self.value)\n",
    "    def child(parent):\n",
    "        def __"
   ]
  }
 ],
 "metadata": {
  "kernelspec": {
   "display_name": "Python 3 (ipykernel)",
   "language": "python",
   "name": "python3"
  },
  "language_info": {
   "codemirror_mode": {
    "name": "ipython",
    "version": 3
   },
   "file_extension": ".py",
   "mimetype": "text/x-python",
   "name": "python",
   "nbconvert_exporter": "python",
   "pygments_lexer": "ipython3",
   "version": "3.10.8"
  }
 },
 "nbformat": 4,
 "nbformat_minor": 5
}
