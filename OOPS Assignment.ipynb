{
 "cells": [
  {
   "cell_type": "code",
   "execution_count": null,
   "id": "266511a2-d03e-4d18-b360-5b7d3acde5b9",
   "metadata": {},
   "outputs": [],
   "source": [
    "#ques1\n",
    "A class is a user-defined blueprint or prototype from which objects are created. Classes provide a means of bundling data and functionality together.\n",
    "An Object is an instance of a Class. A class is like a blueprint while an instance is a copy of the class with actual values.\n",
    "Example:class pwskills:\n",
    "    def welcome(self):\n",
    "        print(\"welcome to class\")\n",
    "ashish=pwskills()\n",
    "ashish.welcome()"
   ]
  },
  {
   "cell_type": "code",
   "execution_count": 2,
   "id": "57fbf65b-7540-4d4b-a9a3-ab579e9b0b22",
   "metadata": {},
   "outputs": [],
   "source": [
    "#ques2\n",
    "#Four pillars of oops are:\n",
    " #   1.abstraction\n",
    " #   2.polymorphism\n",
    "  #  3.encapsulation\n",
    "   # 4.inheritance"
   ]
  },
  {
   "cell_type": "code",
   "execution_count": 4,
   "id": "04482735-04d7-40d0-8b53-73fec23fb4a5",
   "metadata": {},
   "outputs": [],
   "source": [
    "#ques3\n",
    "#The __init__ method lets the class initialize the object's attributes and serves no other purpose."
   ]
  },
  {
   "cell_type": "code",
   "execution_count": null,
   "id": "a95ef823-eeb6-414e-b687-c6b5ae10feb9",
   "metadata": {},
   "outputs": [],
   "source": [
    "#ques4:\n",
    "#The self variable is used to represent the instance of the class which is often used in object-oriented programming."
   ]
  },
  {
   "cell_type": "code",
   "execution_count": 2,
   "id": "c7ac9103-2434-4fb4-abc7-2d339e15b57a",
   "metadata": {},
   "outputs": [],
   "source": [
    "#ques5:\n",
    "When a child class inherit the properties of base or parent class then it is called inheritance.\n",
    "Example of each type of inheritance:\n",
    "    1. Single inheritance:\n",
    "        class parent:\n",
    "            def test(self):\n",
    "                return \"Hi\"\n",
    "        class child(parent):\n",
    "            pass\n",
    "    2. Multiple inheritance:\n",
    "        class parent1:\n",
    "            def test(self):\n",
    "                return \"Hello\"\n",
    "        class parent2:\n",
    "            def test1(self):\n",
    "                return \"Hi\"\n",
    "        class child(parent1,parent2):\n",
    "            pass\n",
    "    3.Multilevel Inheritance:\n",
    "        class A:\n",
    "            def test(self):\n",
    "                return \"Hi\"\n",
    "        class B(A):\n",
    "            def test1(self):\n",
    "                return \"Hi\"\n",
    "        class c(B):\n",
    "            pass\n",
    "        \n",
    "        "
   ]
  },
  {
   "cell_type": "code",
   "execution_count": null,
   "id": "7973ffb5-536d-4e47-8b42-72ee56a57cb2",
   "metadata": {},
   "outputs": [],
   "source": []
  }
 ],
 "metadata": {
  "kernelspec": {
   "display_name": "Python 3 (ipykernel)",
   "language": "python",
   "name": "python3"
  },
  "language_info": {
   "codemirror_mode": {
    "name": "ipython",
    "version": 3
   },
   "file_extension": ".py",
   "mimetype": "text/x-python",
   "name": "python",
   "nbconvert_exporter": "python",
   "pygments_lexer": "ipython3",
   "version": "3.10.8"
  }
 },
 "nbformat": 4,
 "nbformat_minor": 5
}
