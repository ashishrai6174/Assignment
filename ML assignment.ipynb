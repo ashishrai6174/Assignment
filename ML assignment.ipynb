{
 "cells": [
  {
   "cell_type": "code",
   "execution_count": 3,
   "id": "14d1b783-ffb3-4fa8-8529-1ce3c6094619",
   "metadata": {},
   "outputs": [
    {
     "data": {
      "text/plain": [
       "'Deep Learning: It is a subset of machine learning which is used to mimic the human brain. Eg: Image recognition'"
      ]
     },
     "execution_count": 3,
     "metadata": {},
     "output_type": "execute_result"
    }
   ],
   "source": [
    "#ques1:\n",
    "'''Artificial Intelligence: smart application that can peform its own task without human intervention\n",
    "eg: self driving car,robots'''\n",
    "'''Machine Learning: It is a subset of artificial intelligence in which we build a predictive model by training the model with \n",
    "different algorithm. Eg: recommendation system'''\n",
    "'''Deep Learning: It is a subset of machine learning which is used to mimic the human brain. Eg: Image recognition'''"
   ]
  },
  {
   "cell_type": "code",
   "execution_count": 6,
   "id": "b49c4208-e234-47c2-a683-4a374c534417",
   "metadata": {},
   "outputs": [
    {
     "data": {
      "text/plain": [
       "'in supervised machine learning algorithm output feature is already known.in classification problem output feature is \\ncategorical and in regression problem output feature is continious. Eg: Recommendation system,Predicting the price of house,Predicting \\nthe gender of person'"
      ]
     },
     "execution_count": 6,
     "metadata": {},
     "output_type": "execute_result"
    }
   ],
   "source": [
    "#ques2:\n",
    "'''in supervised machine learning algorithm output feature is already known.in classification problem output feature is \n",
    "categorical and in regression problem output feature is continious. Eg: Recommendation system,Predicting the price of house,Predicting \n",
    "the gender of person'''"
   ]
  },
  {
   "cell_type": "code",
   "execution_count": 7,
   "id": "0db44f2a-2cac-4f47-a4f5-374864394728",
   "metadata": {},
   "outputs": [
    {
     "data": {
      "text/plain": [
       "'In unsupervised learning output feature is not known. Main aim of unsupervised learning is to make a cluster(group of similar data)\\n. eg: Segrgation of products in Mall, predicing the expidenture of a person based on income'"
      ]
     },
     "execution_count": 7,
     "metadata": {},
     "output_type": "execute_result"
    }
   ],
   "source": [
    "#ques3:\n",
    "'''In unsupervised learning output feature is not known. Main aim of unsupervised learning is to make a cluster(group of similar data)\n",
    ". eg: Segrgation of products in Mall, predicing the expidenture of a person based on income'''\n"
   ]
  },
  {
   "cell_type": "code",
   "execution_count": 8,
   "id": "f600b2dc-f6be-4eb4-84e4-ad7889442a6c",
   "metadata": {},
   "outputs": [
    {
     "data": {
      "text/plain": [
       "'AI:smart application which perform its own task without human intervention\\n   ML: subset of AI which is used to build predictive model\\n   DL: Subset of ML used to mimic human brain.\\n   DS: It is combination of all AI,ML,DL. DS can perform all task related to AI,ML and DL'"
      ]
     },
     "execution_count": 8,
     "metadata": {},
     "output_type": "execute_result"
    }
   ],
   "source": [
    "#ques4:\n",
    "'''AI:smart application which perform its own task without human intervention\n",
    "   ML: subset of AI which is used to build predictive model\n",
    "   DL: Subset of ML used to mimic human brain.\n",
    "   DS: It is combination of all AI,ML,DL. DS can perform all task related to AI,ML and DL'''"
   ]
  },
  {
   "cell_type": "code",
   "execution_count": 9,
   "id": "37e5c833-6805-426d-834b-736a4798fdb1",
   "metadata": {},
   "outputs": [
    {
     "data": {
      "text/plain": [
       "'Supervised Learning: output feature is known. we train the model using differnt algorithms.\\n  unsupervised Learning: output feature is not known. Main aim is to make cluster\\n  Semi-supervised Learning: combination of supervised and unsupervised learning.'"
      ]
     },
     "execution_count": 9,
     "metadata": {},
     "output_type": "execute_result"
    }
   ],
   "source": [
    "#ques:5\n",
    "'''Supervised Learning: output feature is known. we train the model using differnt algorithms.\n",
    "  unsupervised Learning: output feature is not known. Main aim is to make cluster\n",
    "  Semi-supervised Learning: combination of supervised and unsupervised learning.'''"
   ]
  },
  {
   "cell_type": "code",
   "execution_count": 10,
   "id": "c055d23b-8253-4325-8fc9-24ce34ed4131",
   "metadata": {},
   "outputs": [
    {
     "data": {
      "text/plain": [
       "'Train data set: This is used to train the model\\n   Test data set: This is used to test the accuracy of model\\n   Validation Data set: this is used for hyhperparameter tuning'"
      ]
     },
     "execution_count": 10,
     "metadata": {},
     "output_type": "execute_result"
    }
   ],
   "source": [
    "#ques6\n",
    "'''Train data set: This is used to train the model\n",
    "   Test data set: This is used to test the accuracy of model\n",
    "   Validation Data set: this is used for hyhperparameter tuning'''"
   ]
  },
  {
   "cell_type": "code",
   "execution_count": 11,
   "id": "a619df62-a6ae-4252-8aae-8a0fd4610068",
   "metadata": {},
   "outputs": [
    {
     "data": {
      "text/plain": [
       "\"Anomaly detection is the process of identifying data points or patterns that deviate significantly \\nfrom the norm or expected behavior within a dataset. Unsupervised learning is a machine learning approach where\\nthe algorithm learns from unlabeled data, meaning it doesn't have explicit information about the correct output or labels.\\nThis type of learning can be useful in anomaly detection because anomalies are often rare\\nand might not have labeled examples.\""
      ]
     },
     "execution_count": 11,
     "metadata": {},
     "output_type": "execute_result"
    }
   ],
   "source": [
    "#ques7:\n",
    "'''Anomaly detection is the process of identifying data points or patterns that deviate significantly \n",
    "from the norm or expected behavior within a dataset. Unsupervised learning is a machine learning approach where\n",
    "the algorithm learns from unlabeled data, meaning it doesn't have explicit information about the correct output or labels.\n",
    "This type of learning can be useful in anomaly detection because anomalies are often rare\n",
    "and might not have labeled examples.'''"
   ]
  },
  {
   "cell_type": "code",
   "execution_count": null,
   "id": "5e47349a-7dc6-4944-b0e6-8854ee801d2a",
   "metadata": {},
   "outputs": [],
   "source": [
    "#ques8:\n",
    "'''supervised learning Algorithm: Lin"
   ]
  }
 ],
 "metadata": {
  "kernelspec": {
   "display_name": "Python 3 (ipykernel)",
   "language": "python",
   "name": "python3"
  },
  "language_info": {
   "codemirror_mode": {
    "name": "ipython",
    "version": 3
   },
   "file_extension": ".py",
   "mimetype": "text/x-python",
   "name": "python",
   "nbconvert_exporter": "python",
   "pygments_lexer": "ipython3",
   "version": "3.10.8"
  }
 },
 "nbformat": 4,
 "nbformat_minor": 5
}
