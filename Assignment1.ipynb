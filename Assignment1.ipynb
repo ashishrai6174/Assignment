{
 "cells": [
  {
   "cell_type": "code",
   "execution_count": null,
   "id": "f202ffe7-4e25-420a-b32f-b6d75571b495",
   "metadata": {},
   "outputs": [],
   "source": [
    "#ques1:\n",
    "# We can use the for loop for iterating over entire list of Data once. And while loop is used when we want to run same task\n",
    "  multiple times.\n",
    "    example of for loop:\n",
    "        l1=[1,2,3,4,5]\n",
    "        for i in l1:\n",
    "            l1[i]\n",
    "   Example of while loop:\n",
    "    i=1\n",
    "    while i<10:\n",
    "        print(i)\n",
    "        i=i+1"
   ]
  },
  {
   "cell_type": "code",
   "execution_count": 4,
   "id": "b5c13985-1e84-4c09-8526-8a8227beb926",
   "metadata": {},
   "outputs": [
    {
     "name": "stdout",
     "output_type": "stream",
     "text": [
      "55\n",
      "55\n",
      "3628800\n",
      "3628800\n"
     ]
    }
   ],
   "source": [
    "#Question 2\n",
    "# sum of first 10 natural using for loop\n",
    "sum=0\n",
    "for i in range(1,11):\n",
    "    sum=sum+i\n",
    "print(sum)\n",
    "# sum of first 10 natural number using while loop\n",
    "sum=0\n",
    "i=1\n",
    "while i<11:\n",
    "    sum=sum+i\n",
    "    i=i+1\n",
    "print(sum)\n",
    "# product of first 10 natural number using for loop\n",
    "product=1\n",
    "for i in range(1,11):\n",
    "    product=product*i\n",
    "print(product)\n",
    "# product of first 10 natural number using while loop\n",
    "product=1\n",
    "i=1\n",
    "while i<11:\n",
    "    product=product*i\n",
    "    i=i+1\n",
    "print(product)"
   ]
  },
  {
   "cell_type": "code",
   "execution_count": 5,
   "id": "e4996e02-c3ea-413d-9134-e71d788f22b5",
   "metadata": {},
   "outputs": [
    {
     "name": "stdin",
     "output_type": "stream",
     "text": [
      "enter the unit of electricity used 310\n"
     ]
    },
    {
     "name": "stdout",
     "output_type": "stream",
     "text": [
      "2250.0\n"
     ]
    }
   ],
   "source": [
    "#question3\n",
    "unit=int(input(\"enter the unit of electricity used\"))\n",
    "Bill=0\n",
    "if unit>1 and unit<=100:\n",
    "    Bill=unit*4.5\n",
    "elif unit>100 and unit<=200:\n",
    "    Bill=(100*4.5)+(unit-100)*6\n",
    "elif unit>200 and unit<300:\n",
    "    Bill=(100*4.5)+(100*6)+(Unit-200)*10\n",
    "else:\n",
    "    Bill=(100*4.5)+(100*6)+(100*10)+(unit-300)*20\n",
    "print(Bill)\n",
    "         "
   ]
  },
  {
   "cell_type": "code",
   "execution_count": 18,
   "id": "bdb2e0dd-4282-459f-a986-f5f771613308",
   "metadata": {},
   "outputs": [
    {
     "name": "stdout",
     "output_type": "stream",
     "text": [
      "[0, 8, 64, 125, 216, 512, 1000, 1728, 2744, 3375, 4096, 5832, 8000, 10648, 13824, 15625, 17576, 21952, 27000, 32768, 39304, 42875, 46656, 54872, 64000, 74088, 85184, 91125, 97336, 110592, 125000, 140608, 157464, 166375, 175616, 195112, 216000, 238328, 262144, 274625, 287496, 314432, 343000, 373248, 405224, 421875, 438976, 474552, 512000, 551368, 592704, 614125, 636056, 681472, 729000, 778688, 830584, 857375, 884736, 941192, 1000000]\n"
     ]
    }
   ],
   "source": [
    "#question4\n",
    "list1=[]\n",
    "cube=0\n",
    "for i in range(101):\n",
    "    cube=i**3\n",
    "    if cube%4==0 or cube%5==0:\n",
    "        list1.append(cube)\n",
    "print(list1)\n",
    "\n",
    "    \n"
   ]
  },
  {
   "cell_type": "code",
   "execution_count": 27,
   "id": "e2241f22-df5a-4f1b-92c7-9ab98a969da1",
   "metadata": {},
   "outputs": [
    {
     "name": "stdout",
     "output_type": "stream",
     "text": [
      "12\n"
     ]
    }
   ],
   "source": [
    "#question5\n",
    "string=\"I want to become a data scientist\"\n",
    "count=0\n",
    "vowel=\"aeiouAEIOU\"\n",
    "for j in string:\n",
    "    if j in vowel:\n",
    "        count=count+1\n",
    "print(count)\n",
    "        \n",
    "    \n"
   ]
  },
  {
   "cell_type": "code",
   "execution_count": null,
   "id": "9968ffde-f9e7-4c0b-9993-c6325c21477a",
   "metadata": {},
   "outputs": [],
   "source": []
  }
 ],
 "metadata": {
  "kernelspec": {
   "display_name": "Python 3 (ipykernel)",
   "language": "python",
   "name": "python3"
  },
  "language_info": {
   "codemirror_mode": {
    "name": "ipython",
    "version": 3
   },
   "file_extension": ".py",
   "mimetype": "text/x-python",
   "name": "python",
   "nbconvert_exporter": "python",
   "pygments_lexer": "ipython3",
   "version": "3.10.8"
  }
 },
 "nbformat": 4,
 "nbformat_minor": 5
}
