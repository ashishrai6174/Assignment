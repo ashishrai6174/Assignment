{
 "cells": [
  {
   "cell_type": "code",
   "execution_count": 11,
   "id": "a3840e21-3af6-4120-9f90-ce4e9b34b2a1",
   "metadata": {},
   "outputs": [
    {
     "data": {
      "text/html": [
       "<div>\n",
       "<style scoped>\n",
       "    .dataframe tbody tr th:only-of-type {\n",
       "        vertical-align: middle;\n",
       "    }\n",
       "\n",
       "    .dataframe tbody tr th {\n",
       "        vertical-align: top;\n",
       "    }\n",
       "\n",
       "    .dataframe thead th {\n",
       "        text-align: right;\n",
       "    }\n",
       "</style>\n",
       "<table border=\"1\" class=\"dataframe\">\n",
       "  <thead>\n",
       "    <tr style=\"text-align: right;\">\n",
       "      <th></th>\n",
       "      <th>course_name</th>\n",
       "      <th>duration</th>\n",
       "    </tr>\n",
       "  </thead>\n",
       "  <tbody>\n",
       "    <tr>\n",
       "      <th>1</th>\n",
       "      <td>Machine Learning</td>\n",
       "      <td>3</td>\n",
       "    </tr>\n",
       "  </tbody>\n",
       "</table>\n",
       "</div>"
      ],
      "text/plain": [
       "        course_name  duration\n",
       "1  Machine Learning         3"
      ]
     },
     "execution_count": 11,
     "metadata": {},
     "output_type": "execute_result"
    }
   ],
   "source": [
    "#ques1:\n",
    "import pandas as pd\n",
    "course_name = ['Data Science', 'Machine Learning' ,'Big Data', 'Data Engineer']\n",
    "duration = [2,3,6,4]\n",
    "df = pd.DataFrame(data = {'course_name' : course_name, 'duration' : duration})\n",
    "df[1:2]"
   ]
  },
  {
   "cell_type": "code",
   "execution_count": 12,
   "id": "993e167d-6b1b-4fa2-ae65-83be1a0d8320",
   "metadata": {},
   "outputs": [],
   "source": [
    "#ques2:\n",
    "#loc: It is primarily label-based indexing and allows you to access rows and columns using labels or boolean arrays. With loc, \n",
    "#you specify the row and column labels explicitly.\n",
    "#iloc: It is primarily integer-based indexing and allows you to access rows and columns using integer positions or boolean arrays. With iloc, \n",
    "#you specify the row and column positions explicitly.\n"
   ]
  },
  {
   "cell_type": "code",
   "execution_count": 43,
   "id": "7f8ba266-f2be-4d08-bb80-1a34b480d074",
   "metadata": {},
   "outputs": [
    {
     "name": "stdout",
     "output_type": "stream",
     "text": [
      "course_name    Big Data\n",
      "duration              6\n",
      "Name: 2, dtype: object\n",
      "course_name    Machine Learning\n",
      "duration                      3\n",
      "Name: 1, dtype: object\n"
     ]
    }
   ],
   "source": [
    "#ques3:\n",
    "import pandas as pd\n",
    "\n",
    "course_name = ['Data Science', 'Machine Learning', 'Big Data', 'Data Engineer']\n",
    "duration = [2, 3, 6, 4]\n",
    "df = pd.DataFrame(data={'course_name': course_name, 'duration': duration})\n",
    "\n",
    "reindex = [3, 0, 1, 2]\n",
    "new_df = df.reindex(reindex)\n",
    "new_df\n",
    "output_loc = new_df.loc[2]\n",
    "output_iloc = new_df.iloc[2]\n",
    "print(output_loc)\n",
    "print(output_iloc)\n",
    "#The output_loc will be a Series containing the row with label 2 from the new_df DataFrame, while output_iloc will be a Series containing \n",
    "#the third row (index position 2) from the new_df DataFrame.\n"
   ]
  },
  {
   "cell_type": "code",
   "execution_count": 67,
   "id": "460a68c4-f08a-46a2-bc48-9cad37ad9ce7",
   "metadata": {},
   "outputs": [
    {
     "data": {
      "text/plain": [
       "column_2    0.353858\n",
       "dtype: float64"
      ]
     },
     "execution_count": 67,
     "metadata": {},
     "output_type": "execute_result"
    }
   ],
   "source": [
    "#ques4:\n",
    "import pandas as pd\n",
    "import numpy as np\n",
    "columns = ['column_1', 'column_2', 'column_3', 'column_4', 'column_5', 'column_6']\n",
    "indices = [1,2,3,4,5,6]\n",
    "#Creating a dataframe:\n",
    "df1 = pd.DataFrame(np.random.rand(6,6), columns = columns, index = indices)\n",
    "df1\n",
    "df1.mean()\n",
    "df1.std()[1:2]\n"
   ]
  },
  {
   "cell_type": "code",
   "execution_count": 75,
   "id": "266b207a-caf2-443b-afe3-01e5a4baa372",
   "metadata": {},
   "outputs": [
    {
     "data": {
      "text/html": [
       "<div>\n",
       "<style scoped>\n",
       "    .dataframe tbody tr th:only-of-type {\n",
       "        vertical-align: middle;\n",
       "    }\n",
       "\n",
       "    .dataframe tbody tr th {\n",
       "        vertical-align: top;\n",
       "    }\n",
       "\n",
       "    .dataframe thead th {\n",
       "        text-align: right;\n",
       "    }\n",
       "</style>\n",
       "<table border=\"1\" class=\"dataframe\">\n",
       "  <thead>\n",
       "    <tr style=\"text-align: right;\">\n",
       "      <th></th>\n",
       "      <th>column_1</th>\n",
       "      <th>column_2</th>\n",
       "      <th>column_3</th>\n",
       "      <th>column_4</th>\n",
       "      <th>column_5</th>\n",
       "      <th>column_6</th>\n",
       "    </tr>\n",
       "  </thead>\n",
       "  <tbody>\n",
       "    <tr>\n",
       "      <th>1</th>\n",
       "      <td>0.971227</td>\n",
       "      <td>0.529824</td>\n",
       "      <td>0.044800</td>\n",
       "      <td>0.123300</td>\n",
       "      <td>0.143965</td>\n",
       "      <td>0.995463</td>\n",
       "    </tr>\n",
       "    <tr>\n",
       "      <th>2</th>\n",
       "      <td>0.146330</td>\n",
       "      <td>ashish</td>\n",
       "      <td>0.373795</td>\n",
       "      <td>0.333584</td>\n",
       "      <td>0.176980</td>\n",
       "      <td>0.388477</td>\n",
       "    </tr>\n",
       "    <tr>\n",
       "      <th>3</th>\n",
       "      <td>0.236552</td>\n",
       "      <td>0.37176</td>\n",
       "      <td>0.895460</td>\n",
       "      <td>0.365039</td>\n",
       "      <td>0.211688</td>\n",
       "      <td>0.940365</td>\n",
       "    </tr>\n",
       "    <tr>\n",
       "      <th>4</th>\n",
       "      <td>0.881578</td>\n",
       "      <td>0.822546</td>\n",
       "      <td>0.447203</td>\n",
       "      <td>0.609872</td>\n",
       "      <td>0.136116</td>\n",
       "      <td>0.248309</td>\n",
       "    </tr>\n",
       "    <tr>\n",
       "      <th>5</th>\n",
       "      <td>0.272516</td>\n",
       "      <td>0.177605</td>\n",
       "      <td>0.458894</td>\n",
       "      <td>0.528856</td>\n",
       "      <td>0.900446</td>\n",
       "      <td>0.137217</td>\n",
       "    </tr>\n",
       "    <tr>\n",
       "      <th>6</th>\n",
       "      <td>0.726839</td>\n",
       "      <td>0.420142</td>\n",
       "      <td>0.066881</td>\n",
       "      <td>0.119882</td>\n",
       "      <td>0.126252</td>\n",
       "      <td>0.974685</td>\n",
       "    </tr>\n",
       "  </tbody>\n",
       "</table>\n",
       "</div>"
      ],
      "text/plain": [
       "   column_1  column_2  column_3  column_4  column_5  column_6\n",
       "1  0.971227  0.529824  0.044800  0.123300  0.143965  0.995463\n",
       "2  0.146330    ashish  0.373795  0.333584  0.176980  0.388477\n",
       "3  0.236552   0.37176  0.895460  0.365039  0.211688  0.940365\n",
       "4  0.881578  0.822546  0.447203  0.609872  0.136116  0.248309\n",
       "5  0.272516  0.177605  0.458894  0.528856  0.900446  0.137217\n",
       "6  0.726839  0.420142  0.066881  0.119882  0.126252  0.974685"
      ]
     },
     "execution_count": 75,
     "metadata": {},
     "output_type": "execute_result"
    }
   ],
   "source": [
    "#ques5:\n",
    "import pandas as pd\n",
    "import numpy as np\n",
    "columns = ['column_1', 'column_2', 'column_3', 'column_4', 'column_5', 'column_6']\n",
    "indices = [1,2,3,4,5,6]\n",
    "#Creating a dataframe:\n",
    "df1 = pd.DataFrame(np.random.rand(6,6), columns = columns, index = indices)\n",
    "df1.at[2, 'column_2'] = 'ashish'\n",
    "df1\n",
    "#mean can only be calculated with similar data type. here in column 2 we have combination of integer and object data type.\n"
   ]
  },
  {
   "cell_type": "code",
   "execution_count": 76,
   "id": "6b8af285-28e5-4a0f-9f6e-fd357f4afb36",
   "metadata": {},
   "outputs": [],
   "source": [
    "#ques6:\n",
    "#rolling().mean(): Computes the rolling mean over a specified window size.\n",
    "#rolling().sum(): Calculates the rolling sum over a specified window size.\n",
    "#rolling().max(): Finds the rolling maximum over a specified window size.\n",
    "#rolling().min(): Computes the rolling minimum over a specified window size.\n",
    "#rolling().std(): Calculates the rolling standard deviation over a specified window size.\n",
    "#rolling().var(): Computes the rolling variance over a specified window size.\n",
    "#rolling().apply(): Applies a custom function to the rolling window."
   ]
  },
  {
   "cell_type": "code",
   "execution_count": 77,
   "id": "4e08ef86-1a87-493a-b5cb-acd96818bb6d",
   "metadata": {},
   "outputs": [
    {
     "name": "stdout",
     "output_type": "stream",
     "text": [
      "Current month: 7\n",
      "Current year: 2023\n"
     ]
    }
   ],
   "source": [
    "#ques7:\n",
    "from datetime import datetime\n",
    "\n",
    "# Get the current date and time\n",
    "current_date = datetime.now()\n",
    "\n",
    "# Extract the month and year\n",
    "current_month = current_date.month\n",
    "current_year = current_date.year\n",
    "\n",
    "# Print the current month and year\n",
    "print(\"Current month:\", current_month)\n",
    "print(\"Current year:\", current_year)"
   ]
  },
  {
   "cell_type": "code",
   "execution_count": 80,
   "id": "46529124-e05a-476c-81a5-c3a1ad9aabf1",
   "metadata": {},
   "outputs": [
    {
     "name": "stdin",
     "output_type": "stream",
     "text": [
      "Enter the first date (YYYY-MM-DD):  2023-10-23\n",
      "Enter the second date (YYYY-MM-DD):  2024-09-09\n"
     ]
    },
    {
     "name": "stdout",
     "output_type": "stream",
     "text": [
      "Time difference:\n",
      "Days: 322\n",
      "Hours: 0\n",
      "Minutes: 0\n"
     ]
    }
   ],
   "source": [
    " #ques8:\n",
    "import pandas as pd\n",
    "\n",
    "# Prompt the user to enter the dates\n",
    "date1 = input(\"Enter the first date (YYYY-MM-DD): \")\n",
    "date2 = input(\"Enter the second date (YYYY-MM-DD): \")\n",
    "\n",
    "# Convert the input strings to pandas DateTime objects\n",
    "date1 = pd.to_datetime(date1)\n",
    "date2 = pd.to_datetime(date2)\n",
    "\n",
    "# Calculate the time difference using timedelta\n",
    "time_diff = date2 - date1\n",
    "\n",
    "# Extract the days, hours, and minutes from the time difference\n",
    "days = time_diff.days\n",
    "hours = time_diff.seconds // 3600\n",
    "minutes = (time_diff.seconds % 3600) // 60\n",
    "\n",
    "# Display the result\n",
    "print(\"Time difference:\")\n",
    "print(\"Days:\", days)\n",
    "print(\"Hours:\", hours)\n",
    "print(\"Minutes:\", minutes)\n",
    "\n",
    "\n",
    "\n",
    "\n",
    "\n",
    "\n",
    "\n"
   ]
  },
  {
   "cell_type": "code",
   "execution_count": null,
   "id": "d9613796-67b2-4bd6-981b-aebe098cd503",
   "metadata": {},
   "outputs": [],
   "source": [
    "#ques 9:\n",
    "import pandas as pd\n",
    "\n",
    "# Function to convert a column to categorical data type using a specified category order\n",
    "def convert_column_to_categorical(data, column_name, category_order):\n",
    "    data[column_name] = pd.Categorical(data[column_name], categories=category_order, ordered=True)\n",
    "    return data\n",
    "\n",
    "# Prompt user for file path, column name, and category order\n",
    "file_path = input(\"Enter the file path: \")\n",
    "column_name = input(\"Enter the column name to convert: \")\n",
    "category_order = input(\"Enter the category order (comma-separated): \").split(\",\")\n",
    "\n",
    "# Read CSV file\n",
    "data = pd.read_csv(file_path)\n",
    "\n",
    "# Convert specified column to categorical data type\n",
    "data = convert_column_to_categorical(data, column_name, category_order)\n",
    "\n",
    "# Sort data by the specified column\n",
    "data = data.sort_values(by=column_name)\n",
    "\n",
    "# Display the sorted data\n",
    "print(data)"
   ]
  },
  {
   "cell_type": "code",
   "execution_count": null,
   "id": "38b67888-eefd-41e6-b43d-d19198c24e42",
   "metadata": {},
   "outputs": [],
   "source": [
    "#ques10:\n",
    "import pandas as pd\n",
    "import matplotlib.pyplot as plt\n",
    "#prompt user to enter file path\n",
    "file_path=input(\"Enter the file path\")\n",
    "#to read csv file path\n",
    "df=pd.read_csv(file_path)\n",
    "grouped_data = data.groupby('Category')['Sales'].sum()\n",
    "\n",
    "# Get the unique categories\n",
    "categories = grouped_data.index\n",
    "\n",
    "# Get the unique years from the 'Year' column\n",
    "years = data['Year'].unique()\n",
    "\n",
    "# Create a DataFrame to store the sales data for each category and year\n",
    "sales_data = pd.DataFrame(index=years, columns=categories)\n",
    "\n",
    "# Fill the DataFrame with the sales data\n",
    "for year in years:\n",
    "    sales_data.loc[year] = data[data['Year'] == year].groupby('Category')['Sales'].sum()\n",
    "\n",
    "# Create a stacked bar chart\n",
    "sales_data.plot(kind='bar', stacked=True)\n",
    "\n",
    "# Set the chart title and labels\n",
    "plt.title('Sales Data by Category')\n",
    "plt.xlabel('Year')\n",
    "plt.ylabel('Sales')\n",
    "\n",
    "# Display the chart\n",
    "plt.show()"
   ]
  },
  {
   "cell_type": "code",
   "execution_count": null,
   "id": "9acb8443-c412-4c6e-84a5-5cbdaea838b4",
   "metadata": {},
   "outputs": [],
   "source": [
    "#ques11:\n",
    "import pandas as pd\n",
    "#prompt user to enter the file path\n",
    "file_path=input(\"enter the file path\")\n",
    "#read the csv file\n",
    "df=pd.read_csv(file_path)\n",
    "#mean,median and mode of test score\n",
    "Mean_score=df.mean()\n",
    "Median_score=df.meadian()\n",
    "mode_score=df.mode()\n",
    "df1=pd.DataFrame('Mean_score':)"
   ]
  },
  {
   "cell_type": "code",
   "execution_count": null,
   "id": "54397482-87af-439b-bc57-4771c7e081ab",
   "metadata": {},
   "outputs": [],
   "source": []
  }
 ],
 "metadata": {
  "kernelspec": {
   "display_name": "Python 3 (ipykernel)",
   "language": "python",
   "name": "python3"
  },
  "language_info": {
   "codemirror_mode": {
    "name": "ipython",
    "version": 3
   },
   "file_extension": ".py",
   "mimetype": "text/x-python",
   "name": "python",
   "nbconvert_exporter": "python",
   "pygments_lexer": "ipython3",
   "version": "3.10.8"
  }
 },
 "nbformat": 4,
 "nbformat_minor": 5
}
